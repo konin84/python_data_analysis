{
 "cells": [
  {
   "cell_type": "markdown",
   "id": "b33f5876",
   "metadata": {},
   "source": [
    "### What are the most demanded skills for the top 3 most popular data roles?\n",
    "#### Methodology\n",
    "###### 1. Clean-up skill column\n",
    "###### 2. Calculate skill count based on job_title_short\n",
    "###### 3. Plot initial findings\n",
    "###### 4. Calculate skill percentage\n",
    "###### 5. Plot final findings"
   ]
  },
  {
   "cell_type": "markdown",
   "id": "24023aaa",
   "metadata": {},
   "source": [
    "### Importing libraries and loading data"
   ]
  },
  {
   "cell_type": "code",
   "execution_count": 1,
   "id": "274ae31d",
   "metadata": {},
   "outputs": [],
   "source": [
    "import pandas as pd\n",
    "import matplotlib.pyplot as plt\n",
    "import seaborn as sns\n",
    "import ast\n",
    "df = pd.read_csv('C:/Users/DELL/Desktop/SQL/Data_analysis/data_jobs.csv')"
   ]
  },
  {
   "cell_type": "markdown",
   "id": "8d482d3b",
   "metadata": {},
   "source": [
    "### Data cleanup"
   ]
  },
  {
   "cell_type": "code",
   "execution_count": 2,
   "id": "58701de2",
   "metadata": {},
   "outputs": [],
   "source": [
    "df['job_posted_date'] = pd.to_datetime(df['job_posted_date'])\n",
    "df['job_skills'] = df['job_skills'].apply(\n",
    "    lambda x: ast.literal_eval(x) if isinstance(x, str) else x) # This transforms the string into a list  \n"
   ]
  }
 ],
 "metadata": {
  "kernelspec": {
   "display_name": "python_data_analysis",
   "language": "python",
   "name": "python3"
  },
  "language_info": {
   "codemirror_mode": {
    "name": "ipython",
    "version": 3
   },
   "file_extension": ".py",
   "mimetype": "text/x-python",
   "name": "python",
   "nbconvert_exporter": "python",
   "pygments_lexer": "ipython3",
   "version": "3.12.9"
  }
 },
 "nbformat": 4,
 "nbformat_minor": 5
}
